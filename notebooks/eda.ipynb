{
 "cells": [
  {
   "cell_type": "code",
   "execution_count": 1,
   "metadata": {},
   "outputs": [],
   "source": [
    "# Importing the libraries\n",
    "import pandas as pd\n",
    "import numpy as np\n",
    "import matplotlib.pyplot as plt\n",
    "import seaborn as sns"
   ]
  },
  {
   "cell_type": "code",
   "execution_count": 4,
   "metadata": {},
   "outputs": [],
   "source": [
    "# Load the dataset\n",
    "data_path = \"../data/archive/data.csv\"\n",
    "df = pd.read_csv(data_path)"
   ]
  },
  {
   "cell_type": "code",
   "execution_count": 5,
   "metadata": {},
   "outputs": [
    {
     "name": "stdout",
     "output_type": "stream",
     "text": [
      "\n",
      "Dataset Overview:\n",
      "\n",
      "<class 'pandas.core.frame.DataFrame'>\n",
      "RangeIndex: 437 entries, 0 to 436\n",
      "Data columns (total 27 columns):\n",
      " #   Column    Non-Null Count  Dtype  \n",
      "---  ------    --------------  -----  \n",
      " 0   Sl. No.   437 non-null    int64  \n",
      " 1   NT        437 non-null    int64  \n",
      " 2   THT       437 non-null    int64  \n",
      " 3   THt       437 non-null    int64  \n",
      " 4   THQCr     437 non-null    int64  \n",
      " 5   CT        437 non-null    int64  \n",
      " 6   Ct        437 non-null    float64\n",
      " 7   DT        437 non-null    float64\n",
      " 8   Dt        437 non-null    float64\n",
      " 9   QmT       437 non-null    int64  \n",
      " 10  TT        437 non-null    int64  \n",
      " 11  Tt        437 non-null    int64  \n",
      " 12  TCr       437 non-null    float64\n",
      " 13  C         437 non-null    float64\n",
      " 14  Si        437 non-null    float64\n",
      " 15  Mn        437 non-null    float64\n",
      " 16  P         437 non-null    float64\n",
      " 17  S         437 non-null    float64\n",
      " 18  Ni        437 non-null    float64\n",
      " 19  Cr        437 non-null    float64\n",
      " 20  Cu        437 non-null    float64\n",
      " 21  Mo        437 non-null    float64\n",
      " 22  RedRatio  437 non-null    int64  \n",
      " 23  dA        437 non-null    float64\n",
      " 24  dB        437 non-null    float64\n",
      " 25  dC        437 non-null    float64\n",
      " 26  Fatigue   437 non-null    int64  \n",
      "dtypes: float64(16), int64(11)\n",
      "memory usage: 92.3 KB\n",
      "None\n",
      "\n",
      "First Few Rows:\n",
      "\n",
      "   Sl. No.   NT  THT  THt  THQCr  CT   Ct    DT   Dt  QmT  ...      S    Ni  \\\n",
      "0        1  885   30    0      0  30  0.0  30.0  0.0   30  ...  0.022  0.01   \n",
      "1        2  885   30    0      0  30  0.0  30.0  0.0   30  ...  0.017  0.08   \n",
      "2        3  885   30    0      0  30  0.0  30.0  0.0   30  ...  0.015  0.02   \n",
      "3        4  885   30    0      0  30  0.0  30.0  0.0   30  ...  0.024  0.01   \n",
      "4        5  885   30    0      0  30  0.0  30.0  0.0   30  ...  0.022  0.01   \n",
      "\n",
      "     Cr    Cu   Mo  RedRatio    dA    dB    dC  Fatigue  \n",
      "0  0.02  0.01  0.0       825  0.07  0.02  0.04      232  \n",
      "1  0.12  0.08  0.0       610  0.11  0.00  0.04      235  \n",
      "2  0.03  0.01  0.0      1270  0.07  0.02  0.00      235  \n",
      "3  0.02  0.01  0.0      1740  0.06  0.00  0.00      241  \n",
      "4  0.02  0.02  0.0       825  0.04  0.02  0.00      225  \n",
      "\n",
      "[5 rows x 27 columns]\n"
     ]
    }
   ],
   "source": [
    "# Display basic dataset information\n",
    "print(\"\\nDataset Overview:\\n\")\n",
    "print(df.info())\n",
    "print(\"\\nFirst Few Rows:\\n\")\n",
    "print(df.head())"
   ]
  },
  {
   "cell_type": "code",
   "execution_count": 6,
   "metadata": {},
   "outputs": [
    {
     "name": "stdout",
     "output_type": "stream",
     "text": [
      "\n",
      "Missing Values:\n",
      "\n",
      "Sl. No.     0\n",
      "NT          0\n",
      "THT         0\n",
      "THt         0\n",
      "THQCr       0\n",
      "CT          0\n",
      "Ct          0\n",
      "DT          0\n",
      "Dt          0\n",
      "QmT         0\n",
      "TT          0\n",
      "Tt          0\n",
      "TCr         0\n",
      "C           0\n",
      "Si          0\n",
      "Mn          0\n",
      "P           0\n",
      "S           0\n",
      "Ni          0\n",
      "Cr          0\n",
      "Cu          0\n",
      "Mo          0\n",
      "RedRatio    0\n",
      "dA          0\n",
      "dB          0\n",
      "dC          0\n",
      "Fatigue     0\n",
      "dtype: int64\n",
      "\n",
      "Percentage of Missing Values:\n",
      "\n",
      "Sl. No.     0.0\n",
      "NT          0.0\n",
      "THT         0.0\n",
      "THt         0.0\n",
      "THQCr       0.0\n",
      "CT          0.0\n",
      "Ct          0.0\n",
      "DT          0.0\n",
      "Dt          0.0\n",
      "QmT         0.0\n",
      "TT          0.0\n",
      "Tt          0.0\n",
      "TCr         0.0\n",
      "C           0.0\n",
      "Si          0.0\n",
      "Mn          0.0\n",
      "P           0.0\n",
      "S           0.0\n",
      "Ni          0.0\n",
      "Cr          0.0\n",
      "Cu          0.0\n",
      "Mo          0.0\n",
      "RedRatio    0.0\n",
      "dA          0.0\n",
      "dB          0.0\n",
      "dC          0.0\n",
      "Fatigue     0.0\n",
      "dtype: float64\n"
     ]
    }
   ],
   "source": [
    "# Check for missing values\n",
    "print(\"\\nMissing Values:\\n\")\n",
    "print(df.isnull().sum())\n",
    "print(\"\\nPercentage of Missing Values:\\n\")\n",
    "print(df.isnull().sum() / len(df) * 100)"
   ]
  },
  {
   "cell_type": "code",
   "execution_count": 7,
   "metadata": {},
   "outputs": [
    {
     "name": "stdout",
     "output_type": "stream",
     "text": [
      "\n",
      "Duplicate Rows:\n",
      "\n",
      "0\n",
      "\n",
      "Percentage of Duplicate Rows:\n",
      "\n",
      "0.0\n"
     ]
    }
   ],
   "source": [
    "# Check for duplicate rows\n",
    "print(\"\\nDuplicate Rows:\\n\")\n",
    "print(df.duplicated().sum())\n",
    "print(\"\\nPercentage of Duplicate Rows:\\n\")\n",
    "print(df.duplicated().sum() / len(df) * 100)"
   ]
  },
  {
   "cell_type": "code",
   "execution_count": 8,
   "metadata": {},
   "outputs": [
    {
     "name": "stdout",
     "output_type": "stream",
     "text": [
      "\n",
      "Descriptive Statistics:\n",
      "\n",
      "          Sl. No.          NT         THT         THt       THQCr          CT  \\\n",
      "count  437.000000  437.000000  437.000000  437.000000  437.000000  437.000000   \n",
      "mean   219.000000  872.299771  737.643021   25.949657   10.654462  128.855835   \n",
      "std    126.295289   26.212073  280.036541   10.263824    7.841437  281.743539   \n",
      "min      1.000000  825.000000   30.000000    0.000000    0.000000   30.000000   \n",
      "25%    110.000000  865.000000  845.000000   30.000000    8.000000   30.000000   \n",
      "50%    219.000000  870.000000  845.000000   30.000000    8.000000   30.000000   \n",
      "75%    328.000000  870.000000  855.000000   30.000000    8.000000   30.000000   \n",
      "max    437.000000  930.000000  865.000000   30.000000   24.000000  930.000000   \n",
      "\n",
      "               Ct          DT          Dt         QmT  ...           S  \\\n",
      "count  437.000000  437.000000  437.000000  437.000000  ...  437.000000   \n",
      "mean    40.502059  123.699844    4.843936   35.491991  ...    0.014611   \n",
      "std    126.924697  267.128933   15.700076   19.419277  ...    0.006145   \n",
      "min      0.000000   30.000000    0.000000   30.000000  ...    0.003000   \n",
      "25%      0.000000   30.000000    0.000000   30.000000  ...    0.010000   \n",
      "50%      0.000000   30.000000    0.000000   30.000000  ...    0.015000   \n",
      "75%      0.000000   30.000000    0.000000   30.000000  ...    0.019000   \n",
      "max    540.000000  903.333000   70.200000  140.000000  ...    0.030000   \n",
      "\n",
      "               Ni          Cr          Cu          Mo     RedRatio  \\\n",
      "count  437.000000  437.000000  437.000000  437.000000   437.000000   \n",
      "mean     0.517048    0.570458    0.067780    0.069794   923.629291   \n",
      "std      0.852976    0.411769    0.049161    0.088124   576.617020   \n",
      "min      0.010000    0.010000    0.010000    0.000000   240.000000   \n",
      "25%      0.020000    0.120000    0.020000    0.000000   590.000000   \n",
      "50%      0.060000    0.710000    0.060000    0.000000   740.000000   \n",
      "75%      0.460000    0.980000    0.100000    0.170000  1228.000000   \n",
      "max      2.780000    1.170000    0.260000    0.240000  5530.000000   \n",
      "\n",
      "               dA          dB          dC      Fatigue  \n",
      "count  437.000000  437.000000  437.000000   437.000000  \n",
      "mean     0.047181    0.003391    0.007712   552.903890  \n",
      "std      0.031093    0.008240    0.010418   186.630528  \n",
      "min      0.000000    0.000000    0.000000   225.000000  \n",
      "25%      0.020000    0.000000    0.000000   448.000000  \n",
      "50%      0.040000    0.000000    0.000000   505.000000  \n",
      "75%      0.070000    0.000000    0.010000   578.000000  \n",
      "max      0.130000    0.050000    0.058000  1190.000000  \n",
      "\n",
      "[8 rows x 27 columns]\n"
     ]
    }
   ],
   "source": [
    "# Descriptive statistics\n",
    "print(\"\\nDescriptive Statistics:\\n\")\n",
    "print(df.describe())"
   ]
  },
  {
   "cell_type": "code",
   "execution_count": null,
   "metadata": {},
   "outputs": [],
   "source": []
  }
 ],
 "metadata": {
  "kernelspec": {
   "display_name": "base",
   "language": "python",
   "name": "python3"
  },
  "language_info": {
   "codemirror_mode": {
    "name": "ipython",
    "version": 3
   },
   "file_extension": ".py",
   "mimetype": "text/x-python",
   "name": "python",
   "nbconvert_exporter": "python",
   "pygments_lexer": "ipython3",
   "version": "3.12.7"
  }
 },
 "nbformat": 4,
 "nbformat_minor": 2
}
