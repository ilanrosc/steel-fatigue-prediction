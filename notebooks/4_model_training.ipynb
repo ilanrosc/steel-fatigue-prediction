{
 "cells": [
  {
   "cell_type": "code",
   "execution_count": 1,
   "metadata": {},
   "outputs": [
    {
     "data": {
      "text/html": [
       "<div>\n",
       "<style scoped>\n",
       "    .dataframe tbody tr th:only-of-type {\n",
       "        vertical-align: middle;\n",
       "    }\n",
       "\n",
       "    .dataframe tbody tr th {\n",
       "        vertical-align: top;\n",
       "    }\n",
       "\n",
       "    .dataframe thead th {\n",
       "        text-align: right;\n",
       "    }\n",
       "</style>\n",
       "<table border=\"1\" class=\"dataframe\">\n",
       "  <thead>\n",
       "    <tr style=\"text-align: right;\">\n",
       "      <th></th>\n",
       "      <th>NT</th>\n",
       "      <th>Dt</th>\n",
       "      <th>QmT</th>\n",
       "      <th>TT</th>\n",
       "      <th>C</th>\n",
       "      <th>Si</th>\n",
       "      <th>Mn</th>\n",
       "      <th>P</th>\n",
       "      <th>Cr</th>\n",
       "      <th>Mo</th>\n",
       "      <th>RedRatio</th>\n",
       "      <th>dA</th>\n",
       "      <th>Fatigue</th>\n",
       "    </tr>\n",
       "  </thead>\n",
       "  <tbody>\n",
       "    <tr>\n",
       "      <th>0</th>\n",
       "      <td>885</td>\n",
       "      <td>0.0</td>\n",
       "      <td>0.099907</td>\n",
       "      <td>6084.408144</td>\n",
       "      <td>0.26</td>\n",
       "      <td>-8.598838</td>\n",
       "      <td>-1.158558</td>\n",
       "      <td>0.017</td>\n",
       "      <td>0.02</td>\n",
       "      <td>0.0</td>\n",
       "      <td>2.608257</td>\n",
       "      <td>0.07</td>\n",
       "      <td>232</td>\n",
       "    </tr>\n",
       "    <tr>\n",
       "      <th>1</th>\n",
       "      <td>885</td>\n",
       "      <td>0.0</td>\n",
       "      <td>0.099907</td>\n",
       "      <td>6084.408144</td>\n",
       "      <td>0.25</td>\n",
       "      <td>-11.514168</td>\n",
       "      <td>-1.158558</td>\n",
       "      <td>0.009</td>\n",
       "      <td>0.12</td>\n",
       "      <td>0.0</td>\n",
       "      <td>2.577050</td>\n",
       "      <td>0.11</td>\n",
       "      <td>235</td>\n",
       "    </tr>\n",
       "    <tr>\n",
       "      <th>2</th>\n",
       "      <td>885</td>\n",
       "      <td>0.0</td>\n",
       "      <td>0.099907</td>\n",
       "      <td>6084.408144</td>\n",
       "      <td>0.26</td>\n",
       "      <td>-5.277060</td>\n",
       "      <td>-1.203153</td>\n",
       "      <td>0.008</td>\n",
       "      <td>0.03</td>\n",
       "      <td>0.0</td>\n",
       "      <td>2.647554</td>\n",
       "      <td>0.07</td>\n",
       "      <td>235</td>\n",
       "    </tr>\n",
       "    <tr>\n",
       "      <th>3</th>\n",
       "      <td>885</td>\n",
       "      <td>0.0</td>\n",
       "      <td>0.099907</td>\n",
       "      <td>6084.408144</td>\n",
       "      <td>0.26</td>\n",
       "      <td>-7.220660</td>\n",
       "      <td>-0.890827</td>\n",
       "      <td>0.018</td>\n",
       "      <td>0.02</td>\n",
       "      <td>0.0</td>\n",
       "      <td>2.672754</td>\n",
       "      <td>0.06</td>\n",
       "      <td>241</td>\n",
       "    </tr>\n",
       "    <tr>\n",
       "      <th>4</th>\n",
       "      <td>885</td>\n",
       "      <td>0.0</td>\n",
       "      <td>0.099907</td>\n",
       "      <td>6084.408144</td>\n",
       "      <td>0.22</td>\n",
       "      <td>-10.398759</td>\n",
       "      <td>-1.249650</td>\n",
       "      <td>0.026</td>\n",
       "      <td>0.02</td>\n",
       "      <td>0.0</td>\n",
       "      <td>2.608257</td>\n",
       "      <td>0.04</td>\n",
       "      <td>225</td>\n",
       "    </tr>\n",
       "  </tbody>\n",
       "</table>\n",
       "</div>"
      ],
      "text/plain": [
       "    NT   Dt       QmT           TT     C         Si        Mn      P    Cr  \\\n",
       "0  885  0.0  0.099907  6084.408144  0.26  -8.598838 -1.158558  0.017  0.02   \n",
       "1  885  0.0  0.099907  6084.408144  0.25 -11.514168 -1.158558  0.009  0.12   \n",
       "2  885  0.0  0.099907  6084.408144  0.26  -5.277060 -1.203153  0.008  0.03   \n",
       "3  885  0.0  0.099907  6084.408144  0.26  -7.220660 -0.890827  0.018  0.02   \n",
       "4  885  0.0  0.099907  6084.408144  0.22 -10.398759 -1.249650  0.026  0.02   \n",
       "\n",
       "    Mo  RedRatio    dA  Fatigue  \n",
       "0  0.0  2.608257  0.07      232  \n",
       "1  0.0  2.577050  0.11      235  \n",
       "2  0.0  2.647554  0.07      235  \n",
       "3  0.0  2.672754  0.06      241  \n",
       "4  0.0  2.608257  0.04      225  "
      ]
     },
     "execution_count": 1,
     "metadata": {},
     "output_type": "execute_result"
    }
   ],
   "source": [
    "# Add the target variable - Merge original dataset with transformed dataset\n",
    "import pandas as pd\n",
    "\n",
    "# Load both datasets\n",
    "file_original = \"../data/archive/data.csv\"  # Original dataset containing 'Fatigue'\n",
    "file_transformed = \"../data/processed/transformed_dataset_updated.csv\" # Preprocessed dataset\n",
    "\n",
    "df_original = pd.read_csv(file_original) \n",
    "df_transformed = pd.read_csv(file_transformed)\n",
    "\n",
    "# Ensure the number of rows match before merging\n",
    "if df_original.shape[0] == df_transformed.shape[0]:\n",
    "    # Add the 'Fatigue' column back to the transformed dataset\n",
    "    df_transformed[\"Fatigue\"] = df_original[\"Fatigue\"]\n",
    "else:\n",
    "    raise ValueError(\"Error: The number of rows in the original and transformed datasets do not match.\")\n",
    "\n",
    "df_transformed.head()"
   ]
  },
  {
   "cell_type": "code",
   "execution_count": 2,
   "metadata": {},
   "outputs": [
    {
     "name": "stdout",
     "output_type": "stream",
     "text": [
      "Train-Test Split Summary:\n",
      "Training Set: X_train (349, 12), y_train (349,)\n",
      "Testing Set: X_test (88, 12), y_test (88,)\n"
     ]
    }
   ],
   "source": [
    "# Proceed with the train-test split\n",
    "\n",
    "from sklearn.model_selection import train_test_split\n",
    "\n",
    "# Define features (X) and target variable (y)\n",
    "target_column = \"Fatigue\"  # Target variable\n",
    "X = df_transformed.drop(columns=[target_column])\n",
    "y = df_transformed[target_column]\n",
    "\n",
    "# Perform train-test split (80% training, 20% testing)\n",
    "X_train, X_test, y_train, y_test = train_test_split(X, y, test_size=0.2, random_state=42)\n",
    "\n",
    "# Save the updated dataset\n",
    "df_transformed.to_csv(\"../data/processed/transformed_dataset_with_target.csv\", index=False)\n",
    "\n",
    "# Display dataset sizes after splitting\n",
    "print(\"Train-Test Split Summary:\")\n",
    "print(f\"Training Set: X_train {X_train.shape}, y_train {y_train.shape}\")\n",
    "print(f\"Testing Set: X_test {X_test.shape}, y_test {y_test.shape}\")\n"
   ]
  },
  {
   "cell_type": "code",
   "execution_count": 3,
   "metadata": {},
   "outputs": [
    {
     "name": "stdout",
     "output_type": "stream",
     "text": [
      "           Model        MAE          MSE  R² Score\n",
      "0  Random Forest  19.356605   649.149166  0.984299\n",
      "1  Decision Tree  26.198864  1201.161932  0.970948\n",
      "2        XGBoost  16.783148   572.124375  0.986162\n"
     ]
    }
   ],
   "source": [
    "# Selected models - Random Forest, Decision Tree, and XGBoost\n",
    "# Compare model performance using MAE, MSE, and R² score\n",
    "\n",
    "from sklearn.ensemble import RandomForestRegressor\n",
    "from sklearn.tree import DecisionTreeRegressor\n",
    "from xgboost import XGBRegressor\n",
    "from sklearn.metrics import mean_absolute_error, mean_squared_error, r2_score\n",
    "\n",
    "# Initialize models\n",
    "rf_model = RandomForestRegressor(n_estimators=100, random_state=42)\n",
    "dt_model = DecisionTreeRegressor(random_state=42)\n",
    "xgb_model = XGBRegressor(n_estimators=100, random_state=42)\n",
    "\n",
    "# Train models\n",
    "rf_model.fit(X_train, y_train)\n",
    "dt_model.fit(X_train, y_train)\n",
    "xgb_model.fit(X_train, y_train)\n",
    "\n",
    "# Make predictions\n",
    "y_pred_rf = rf_model.predict(X_test)\n",
    "y_pred_dt = dt_model.predict(X_test)\n",
    "y_pred_xgb = xgb_model.predict(X_test)\n",
    "\n",
    "# Evaluate models\n",
    "def evaluate_model(model_name, y_test, y_pred):\n",
    "    return {\n",
    "        \"Model\": model_name,\n",
    "        \"MAE\": mean_absolute_error(y_test, y_pred),\n",
    "        \"MSE\": mean_squared_error(y_test, y_pred),\n",
    "        \"R² Score\": r2_score(y_test, y_pred),\n",
    "    }\n",
    "\n",
    "# Store results in a dataframe\n",
    "model_results = pd.DataFrame([\n",
    "    evaluate_model(\"Random Forest\", y_test, y_pred_rf),\n",
    "    evaluate_model(\"Decision Tree\", y_test, y_pred_dt),\n",
    "    evaluate_model(\"XGBoost\", y_test, y_pred_xgb)\n",
    "])\n",
    "\n",
    "# Display model comparison results\n",
    "print(model_results)\n",
    "    "
   ]
  },
  {
   "cell_type": "markdown",
   "metadata": {},
   "source": [
    "**Based on the comparison, XGBoost is the best model for fatigue strength prediction due to:**\n",
    "\n",
    "- Highest accuracy (Lowest MAE & MSE).\n",
    "- Best fit (Highest R² Score).\n",
    "- More robust performance compared to Decision Trees and Random Forest."
   ]
  },
  {
   "cell_type": "code",
   "execution_count": 4,
   "metadata": {},
   "outputs": [
    {
     "data": {
      "image/png": "[encoded data removed]",
      "text/plain": [
       "<Figure size 1200x600 with 1 Axes>"
      ]
     },
     "metadata": {},
     "output_type": "display_data"
    }
   ],
   "source": [
    "# Visualization of actual vs predicted values\n",
    "\n",
    "import matplotlib.pyplot as plt\n",
    "import seaborn as sns\n",
    "\n",
    "plt.figure(figsize=(12, 6))\n",
    "\n",
    "# Scatter plots for each model\n",
    "sns.scatterplot(x=y_test, y=y_pred_rf, label=\"Random Forest\", alpha=0.6)\n",
    "sns.scatterplot(x=y_test, y=y_pred_dt, label=\"Decision Tree\", alpha=0.6)\n",
    "sns.scatterplot(x=y_test, y=y_pred_xgb, label=\"XGBoost\", alpha=0.6)\n",
    "\n",
    "# Reference line (Perfect Prediction y=x)\n",
    "plt.plot([min(y_test), max(y_test)], [min(y_test), max(y_test)], color=\"black\", linestyle=\"dashed\", linewidth=2)\n",
    "\n",
    "# Labels and title\n",
    "plt.xlabel(\"Actual Fatigue Strength\")\n",
    "plt.ylabel(\"Predicted Fatigue Strength\")\n",
    "plt.title(\"Actual vs. Predicted Fatigue Strength for Different Models\")\n",
    "plt.legend()\n",
    "plt.grid(True)\n",
    "plt.show()"
   ]
  },
  {
   "cell_type": "markdown",
   "metadata": {},
   "source": [
    "**Perform Hyperparameter Tuning for XGBoost**\n",
    "- Hyperparameter tuning optimizes XGBoost’s settings to achieve the best possible performance.\n",
    "- It balances accuracy, speed, and generalization.\n",
    "- We use RandomizedSearchCV to efficiently find the best hyperparameters for our dataset.\n"
   ]
  },
  {
   "cell_type": "code",
   "execution_count": 5,
   "metadata": {},
   "outputs": [
    {
     "name": "stdout",
     "output_type": "stream",
     "text": [
      "Fitting 3 folds for each of 20 candidates, totalling 60 fits\n",
      "Best Hyperparameters for XGBoost: {'subsample': 0.6, 'reg_lambda': 0.5, 'reg_alpha': 0.1, 'n_estimators': 200, 'max_depth': 5, 'learning_rate': 0.1, 'gamma': 0.3, 'colsample_bytree': 0.6}\n",
      "XGBoost Hyperparameter Tuning Results:\n",
      "                      Metric       Value\n",
      "0  Mean Absolute Error (MAE)   16.559685\n",
      "1   Mean Squared Error (MSE)  574.020641\n",
      "2                   R² Score    0.986116\n"
     ]
    }
   ],
   "source": [
    "# Perform Hyperparameter Tuning for XGBoost\n",
    "from sklearn.model_selection import RandomizedSearchCV\n",
    "\n",
    "# Define parameter grid for hyperparameter tuning\n",
    "xgb_param_grid = {\n",
    "    'n_estimators': [50, 100, 200],\n",
    "    'max_depth': [3, 5, 7, 10],\n",
    "    'learning_rate': [0.01, 0.05, 0.1, 0.2],\n",
    "    'subsample': [0.6, 0.8, 1.0],\n",
    "    'colsample_bytree': [0.6, 0.8, 1.0],\n",
    "    'gamma': [0, 0.1, 0.2, 0.3],\n",
    "    'reg_alpha': [0, 0.1, 0.5, 1],\n",
    "    'reg_lambda': [0, 0.1, 0.5, 1]\n",
    "}\n",
    "\n",
    "# Initialize XGBoost model\n",
    "xgb_model = XGBRegressor(random_state=42)\n",
    "\n",
    "# Perform Randomized Search Cross Validation\n",
    "xgb_random_search = RandomizedSearchCV(\n",
    "    estimator=xgb_model,\n",
    "    param_distributions=xgb_param_grid,\n",
    "    n_iter=20,  # Number of parameter combinations to try\n",
    "    scoring='neg_mean_absolute_error',  # Minimize MAE\n",
    "    cv=3,  # 3-fold cross-validation\n",
    "    verbose=2,\n",
    "    random_state=42,\n",
    "    n_jobs=-1\n",
    ")\n",
    "\n",
    "# Run hyperparameter tuning\n",
    "xgb_random_search.fit(X_train, y_train)\n",
    "\n",
    "# Get the best parameters\n",
    "best_xgb_params = xgb_random_search.best_params_\n",
    "print(\"Best Hyperparameters for XGBoost:\", best_xgb_params)\n",
    "\n",
    "# Train XGBoost with best parameters\n",
    "best_xgb_model = XGBRegressor(**best_xgb_params, random_state=42)\n",
    "best_xgb_model.fit(X_train, y_train)\n",
    "\n",
    "# Make predictions with optimized model\n",
    "y_pred_xgb_best = best_xgb_model.predict(X_test)\n",
    "\n",
    "# Evaluate optimized XGBoost model\n",
    "mae_xgb_best = mean_absolute_error(y_test, y_pred_xgb_best)\n",
    "mse_xgb_best = mean_squared_error(y_test, y_pred_xgb_best)\n",
    "r2_xgb_best = r2_score(y_test, y_pred_xgb_best)\n",
    "\n",
    "# Display results\n",
    "xgb_tuning_results = pd.DataFrame({\n",
    "    \"Metric\": [\"Mean Absolute Error (MAE)\", \"Mean Squared Error (MSE)\", \"R² Score\"],\n",
    "    \"Value\": [mae_xgb_best, mse_xgb_best, r2_xgb_best]\n",
    "})\n",
    "\n",
    "# Print best performance metrics\n",
    "print(\"XGBoost Hyperparameter Tuning Results:\")\n",
    "print(xgb_tuning_results)\n"
   ]
  },
  {
   "cell_type": "code",
   "execution_count": 6,
   "metadata": {},
   "outputs": [
    {
     "data": {
      "image/png": "[encoded data removed]",
      "text/plain": [
       "<Figure size 1200x600 with 1 Axes>"
      ]
     },
     "metadata": {},
     "output_type": "display_data"
    },
    {
     "name": "stdout",
     "output_type": "stream",
     "text": [
      "Top Important Features:\n",
      "     Feature  Importance\n",
      "0         NT    0.678829\n",
      "1         Dt    0.098824\n",
      "3         TT    0.082872\n",
      "8         Cr    0.048029\n",
      "9         Mo    0.030309\n",
      "5         Si    0.013932\n",
      "4          C    0.011492\n",
      "7          P    0.010259\n",
      "6         Mn    0.009423\n",
      "11        dA    0.009302\n",
      "10  RedRatio    0.006729\n",
      "2        QmT    0.000000\n"
     ]
    }
   ],
   "source": [
    "# Analyze Feature Importance to identify key predictors.\n",
    "\n",
    "# Get feature importance scores\n",
    "feature_importance = best_xgb_model.feature_importances_\n",
    "\n",
    "# Convert to DataFrame\n",
    "importance_df = pd.DataFrame({\n",
    "    \"Feature\": X.columns,\n",
    "    \"Importance\": feature_importance\n",
    "}).sort_values(by=\"Importance\", ascending=False)\n",
    "\n",
    "# Plot Feature Importance (Fixed Warning)\n",
    "plt.figure(figsize=(12, 6))\n",
    "sns.barplot(x=\"Importance\", y=\"Feature\", data=importance_df, hue=\"Feature\", palette=\"viridis\", legend=False)\n",
    "plt.xlabel(\"Feature Importance Score\")\n",
    "plt.ylabel(\"Features\")\n",
    "plt.title(\"Feature Importance Analysis (XGBoost)\")\n",
    "plt.show()\n",
    "\n",
    "# Print top features\n",
    "print(\"Top Important Features:\")\n",
    "print(importance_df)\n"
   ]
  },
  {
   "cell_type": "markdown",
   "metadata": {},
   "source": [
    "### **🔍 Key Observations**\n",
    "- **`NT` is by far the most influential feature** (0.6922 importance score).  \n",
    "- **`Dt`, `TT`, and `Cr`** have **moderate influence** and should be retained.  \n",
    "- **`QmT` has zero importance** → Might be unnecessary.  \n",
    "- **Features like `RedRatio`, `Si`, and `Mn` contribute very little** and may be **candidates for removal**.  \n",
    "\n",
    "### **✅ Next Steps**\n",
    "1. **Remove `QmT` (since it has zero importance) and re-train the model.**  \n",
    "2. **Test removing low-importance features (`RedRatio`, `Si`, `Mn`, etc.) to see if performance improves.** "
   ]
  },
  {
   "cell_type": "code",
   "execution_count": 7,
   "metadata": {},
   "outputs": [
    {
     "name": "stdout",
     "output_type": "stream",
     "text": [
      "XGBoost Performance After Removing QmT:\n",
      "                      Metric       Value\n",
      "0  Mean Absolute Error (MAE)   18.045294\n",
      "1   Mean Squared Error (MSE)  595.798592\n",
      "2                   R² Score    0.985589\n"
     ]
    }
   ],
   "source": [
    "\n",
    "# Remove the 'QmT' feature (zero importance)\n",
    "X_filtered = X.drop(columns=[\"QmT\"])\n",
    "\n",
    "# Perform train-test split again\n",
    "X_train_filtered, X_test_filtered, y_train_filtered, y_test_filtered = train_test_split(\n",
    "    X_filtered, y, test_size=0.2, random_state=42\n",
    ")\n",
    "\n",
    "# Re-train XGBoost model using the best hyperparameters\n",
    "best_xgb_model_filtered = XGBRegressor(\n",
    "    subsample=0.6, reg_lambda=0.5, reg_alpha=0.1, n_estimators=200,\n",
    "    max_depth=5, learning_rate=0.1, gamma=0.3, colsample_bytree=0.6, random_state=42\n",
    ")\n",
    "\n",
    "# Train the model\n",
    "best_xgb_model_filtered.fit(X_train_filtered, y_train_filtered)\n",
    "\n",
    "# Make predictions\n",
    "y_pred_xgb_filtered = best_xgb_model_filtered.predict(X_test_filtered)\n",
    "\n",
    "# Evaluate the updated model\n",
    "mae_xgb_filtered = mean_absolute_error(y_test_filtered, y_pred_xgb_filtered)\n",
    "mse_xgb_filtered = mean_squared_error(y_test_filtered, y_pred_xgb_filtered)\n",
    "r2_xgb_filtered = r2_score(y_test_filtered, y_pred_xgb_filtered)\n",
    "\n",
    "# Display the updated model performance\n",
    "xgb_filtered_results = pd.DataFrame({\n",
    "    \"Metric\": [\"Mean Absolute Error (MAE)\", \"Mean Squared Error (MSE)\", \"R² Score\"],\n",
    "    \"Value\": [mae_xgb_filtered, mse_xgb_filtered, r2_xgb_filtered]\n",
    "})\n",
    "\n",
    "# Print results\n",
    "print(\"XGBoost Performance After Removing QmT:\")\n",
    "print(xgb_filtered_results)\n"
   ]
  },
  {
   "cell_type": "markdown",
   "metadata": {},
   "source": [
    "### Interpretation\n",
    "- **Removing `QmT` caused a slight performance degradation**:\n",
    "  - **MAE increased** from **16.56** to **18.05**, meaning predictions are now slightly **less accurate**.\n",
    "  - **MSE increased**, indicating larger prediction errors.\n",
    "  - **R² Score dropped slightly**, meaning the model explains **less variance** than before."
   ]
  },
  {
   "cell_type": "code",
   "execution_count": 8,
   "metadata": {},
   "outputs": [
    {
     "name": "stdout",
     "output_type": "stream",
     "text": [
      "Final XGBoost Model Performance:\n",
      "                      Metric       Value\n",
      "0  Mean Absolute Error (MAE)   16.559685\n",
      "1   Mean Squared Error (MSE)  574.020641\n",
      "2                   R² Score    0.986116\n"
     ]
    }
   ],
   "source": [
    "# Restore `QmT` and keep all features (since removing it worsened performance)\n",
    "# Simply use X variable before dropping QmT \n",
    "\n",
    "# Perform train-test split again with all features\n",
    "X_train_final, X_test_final, y_train_final, y_test_final = train_test_split(\n",
    "    X, y, test_size=0.2, random_state=42\n",
    ")\n",
    "\n",
    "# Train final XGBoost model using best hyperparameters\n",
    "final_xgb_model = XGBRegressor(\n",
    "    subsample=0.6, reg_lambda=0.5, reg_alpha=0.1, n_estimators=200,\n",
    "    max_depth=5, learning_rate=0.1, gamma=0.3, colsample_bytree=0.6, random_state=42\n",
    ")\n",
    "\n",
    "# Train the model\n",
    "final_xgb_model.fit(X_train_final, y_train_final)\n",
    "\n",
    "# Make predictions\n",
    "y_pred_final = final_xgb_model.predict(X_test_final)\n",
    "\n",
    "# Train XGBoost with best parameters\n",
    "best_xgb_model = XGBRegressor(**best_xgb_params, random_state=42)\n",
    "best_xgb_model.fit(X_train, y_train)\n",
    "\n",
    "# Make predictions with optimized model\n",
    "y_pred_xgb_best = best_xgb_model.predict(X_test)\n",
    "\n",
    "# Evaluate final model\n",
    "mae_final = mean_absolute_error(y_test_final, y_pred_final)\n",
    "mse_final = mean_squared_error(y_test_final, y_pred_final)\n",
    "r2_final = r2_score(y_test_final, y_pred_final)\n",
    "\n",
    "# Display final model performance\n",
    "final_model_results = pd.DataFrame({\n",
    "    \"Metric\": [\"Mean Absolute Error (MAE)\", \"Mean Squared Error (MSE)\", \"R² Score\"],\n",
    "    \"Value\": [mae_final, mse_final, r2_final]\n",
    "})\n",
    "\n",
    "# Print results\n",
    "print(\"Final XGBoost Model Performance:\")\n",
    "print(final_model_results)\n",
    "\n",
    "\n"
   ]
  },
  {
   "cell_type": "code",
   "execution_count": 9,
   "metadata": {},
   "outputs": [
    {
     "name": "stdout",
     "output_type": "stream",
     "text": [
      "🔍 Training vs. Testing Performance (Overfitting Check):\n",
      "                      Metric  Training Score  Testing Score\n",
      "0  Mean Absolute Error (MAE)        5.387299      16.559685\n",
      "1   Mean Squared Error (MSE)       59.667072     574.020641\n",
      "2                   R² Score        0.998197       0.986116\n"
     ]
    }
   ],
   "source": [
    "# Let's perform Training vs. Testing Performance Comparison to check for overfitting and underfitting.\n",
    "from sklearn.metrics import mean_absolute_error, mean_squared_error, r2_score\n",
    "\n",
    "# Predictions on training data\n",
    "y_train_pred = final_xgb_model.predict(X_train_final)\n",
    "\n",
    "# Predictions on testing data\n",
    "y_test_pred = final_xgb_model.predict(X_test_final)\n",
    "\n",
    "# Evaluate Training Performance\n",
    "train_mae = mean_absolute_error(y_train_final, y_train_pred)\n",
    "train_mse = mean_squared_error(y_train_final, y_train_pred)\n",
    "train_r2 = r2_score(y_train_final, y_train_pred)\n",
    "\n",
    "# Evaluate Testing Performance\n",
    "test_mae = mean_absolute_error(y_test_final, y_test_pred)\n",
    "test_mse = mean_squared_error(y_test_final, y_test_pred)\n",
    "test_r2 = r2_score(y_test_final, y_test_pred)\n",
    "\n",
    "# Create a DataFrame for Comparison\n",
    "overfitting_check = pd.DataFrame({\n",
    "    \"Metric\": [\"Mean Absolute Error (MAE)\", \"Mean Squared Error (MSE)\", \"R² Score\"],\n",
    "    \"Training Score\": [train_mae, train_mse, train_r2],\n",
    "    \"Testing Score\": [test_mae, test_mse, test_r2]\n",
    "})\n",
    "\n",
    "# Print results\n",
    "print(\"🔍 Training vs. Testing Performance (Overfitting Check):\")\n",
    "print(overfitting_check)\n"
   ]
  },
  {
   "cell_type": "markdown",
   "metadata": {},
   "source": [
    "Since we **do not have additional data** and the **model performs well overall**, we **decided to keep the current model as is**."
   ]
  },
  {
   "cell_type": "code",
   "execution_count": 10,
   "metadata": {},
   "outputs": [
    {
     "name": "stdout",
     "output_type": "stream",
     "text": [
      "Final model saved as final_xgboost_model.pkl\n"
     ]
    }
   ],
   "source": [
    "# Save the trained model\n",
    "import joblib\n",
    "model_filename = \"final_xgboost_model.pkl\"\n",
    "joblib.dump(final_xgb_model, model_filename)\n",
    "print(f\"Final model saved as {model_filename}\")"
   ]
  },
  {
   "cell_type": "code",
   "execution_count": null,
   "metadata": {},
   "outputs": [],
   "source": []
  }
 ],
 "metadata": {
  "kernelspec": {
   "display_name": "base",
   "language": "python",
   "name": "python3"
  },
  "language_info": {
   "codemirror_mode": {
    "name": "ipython",
    "version": 3
   },
   "file_extension": ".py",
   "mimetype": "text/x-python",
   "name": "python",
   "nbconvert_exporter": "python",
   "pygments_lexer": "ipython3",
   "version": "3.12.7"
  }
 },
 "nbformat": 4,
 "nbformat_minor": 2
}
